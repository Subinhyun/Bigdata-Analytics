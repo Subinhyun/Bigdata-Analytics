{
 "cells": [
  {
   "cell_type": "code",
   "execution_count": 1,
   "metadata": {},
   "outputs": [],
   "source": [
    "from bs4 import BeautifulSoup"
   ]
  },
  {
   "cell_type": "code",
   "execution_count": 2,
   "metadata": {},
   "outputs": [
    {
     "data": {
      "text/plain": [
       "'\\n\\n<h1 id=\"title\"> \\n    한빛출판네트워크 \\n</h1> \\n<div class=\"top\"> \\n        <ul class=\"menu\"> \\n             <li> \\n                 <a class=\"login\" href=\"http://www.hanbit.co.kr/member/login.html\"> \\n                     로그인 \\n                 </a> \\n              </li> \\n         </ul> \\n        <ul class=\"brand\"> \\n            <li> \\n               <a href=\"http://www.hanbit.co.kr/media/\"> \\n                   한빛미디어 \\n              </a> \\n           </li> \\n           <li> \\n             <a href=\"http:///www.hanbit.co.kr/academy/\"> \\n                 한빛아카데미 \\n             </a> \\n          </li> \\n       </ul> \\n</div>             \\n                  \\n'"
      ]
     },
     "execution_count": 2,
     "metadata": {},
     "output_type": "execute_result"
    }
   ],
   "source": [
    "'''\n",
    "\n",
    "<h1 id=\"title\"> \n",
    "    한빛출판네트워크 \n",
    "</h1> \n",
    "<div class=\"top\"> \n",
    "        <ul class=\"menu\"> \n",
    "             <li> \n",
    "                 <a class=\"login\" href=\"http://www.hanbit.co.kr/member/login.html\"> \n",
    "                     로그인 \n",
    "                 </a> \n",
    "              </li> \n",
    "         </ul> \n",
    "        <ul class=\"brand\"> \n",
    "            <li> \n",
    "               <a href=\"http://www.hanbit.co.kr/media/\"> \n",
    "                   한빛미디어 \n",
    "              </a> \n",
    "           </li> \n",
    "           <li> \n",
    "             <a href=\"http:///www.hanbit.co.kr/academy/\"> \n",
    "                 한빛아카데미 \n",
    "             </a> \n",
    "          </li> \n",
    "       </ul> \n",
    "</div>             \n",
    "                  \n",
    "'''"
   ]
  },
  {
   "cell_type": "code",
   "execution_count": 3,
   "metadata": {},
   "outputs": [
    {
     "name": "stdout",
     "output_type": "stream",
     "text": [
      "<h1 id=\"title\">\n",
      " 한빛출판네트워크\n",
      "</h1>\n",
      "<div class=\"top\">\n",
      " <ul class=\"menu\">\n",
      "  <li>\n",
      "   <a class=\"login\" href=\"http://www.hanbit.co.kr/member/login.html\">\n",
      "    로그인\n",
      "   </a>\n",
      "  </li>\n",
      " </ul>\n",
      " <ul class=\"brand\">\n",
      "  <li>\n",
      "   <a href=\"http://www.hanbit.co.kr/media/\">\n",
      "    한빛미디어\n",
      "   </a>\n",
      "  </li>\n",
      "  <li>\n",
      "   <a href=\"http:///www.hanbit.co.kr/academy/\">\n",
      "    한빛아카데미\n",
      "   </a>\n",
      "  </li>\n",
      " </ul>\n",
      "</div>\n"
     ]
    }
   ],
   "source": [
    "html='<h1 id=\"title\">한빛출판네트워크</h1><div class=\"top\"><ul class=\"menu\"><li><a class=\"login\" href=\"http://www.hanbit.co.kr/member/login.html\">로그인</a></li></ul><ul class=\"brand\"><li>\\\n",
    "<a href=\"http://www.hanbit.co.kr/media/\">한빛미디어</a></li><li><a href=\"http:///www.hanbit.co.kr/academy/\">한빛아카데미</a></li></ul></div>'                                       \n",
    "                 \n",
    "soup = BeautifulSoup(html,'html.parser')\n",
    "print(soup.prettify())"
   ]
  },
  {
   "cell_type": "code",
   "execution_count": 4,
   "metadata": {},
   "outputs": [
    {
     "name": "stdout",
     "output_type": "stream",
     "text": [
      "<h1 id=\"title\">한빛출판네트워크</h1>\n",
      "<class 'bs4.element.Tag'>\n",
      "<class 'int'>\n",
      "<div class=\"top\"><ul class=\"menu\"><li><a class=\"login\" href=\"http://www.hanbit.co.kr/member/login.html\">로그인</a></li></ul><ul class=\"brand\"><li><a href=\"http://www.hanbit.co.kr/media/\">한빛미디어</a></li><li><a href=\"http:///www.hanbit.co.kr/academy/\">한빛아카데미</a></li></ul></div>\n"
     ]
    }
   ],
   "source": [
    "print(soup.h1)               \n",
    "tag_h1 =soup.h1\n",
    "print(type(tag_h1))\n",
    "test = 1\n",
    "print(type(test))\n",
    "tag_div = soup.div\n",
    "print(tag_div)"
   ]
  },
  {
   "cell_type": "code",
   "execution_count": 5,
   "metadata": {},
   "outputs": [
    {
     "name": "stdout",
     "output_type": "stream",
     "text": [
      "<ul class=\"menu\"><li><a class=\"login\" href=\"http://www.hanbit.co.kr/member/login.html\">로그인</a></li></ul>\n",
      "<li><a class=\"login\" href=\"http://www.hanbit.co.kr/member/login.html\">로그인</a></li>\n",
      "<a class=\"login\" href=\"http://www.hanbit.co.kr/member/login.html\">로그인</a>\n"
     ]
    }
   ],
   "source": [
    "tag_ul = soup.ul\n",
    "print(tag_ul)\n",
    "\n",
    "tag_li = soup.li\n",
    "print(tag_li)\n",
    "\n",
    "tag_a = soup.a\n",
    "print(tag_a)"
   ]
  },
  {
   "cell_type": "code",
   "execution_count": 6,
   "metadata": {},
   "outputs": [
    {
     "name": "stdout",
     "output_type": "stream",
     "text": [
      "[<ul class=\"menu\"><li><a class=\"login\" href=\"http://www.hanbit.co.kr/member/login.html\">로그인</a></li></ul>, <ul class=\"brand\"><li><a href=\"http://www.hanbit.co.kr/media/\">한빛미디어</a></li><li><a href=\"http:///www.hanbit.co.kr/academy/\">한빛아카데미</a></li></ul>]\n",
      "<class 'bs4.element.ResultSet'>\n",
      "[<a class=\"login\" href=\"http://www.hanbit.co.kr/member/login.html\">로그인</a>, <a href=\"http://www.hanbit.co.kr/media/\">한빛미디어</a>, <a href=\"http:///www.hanbit.co.kr/academy/\">한빛아카데미</a>]\n",
      "[<a class=\"login\" href=\"http://www.hanbit.co.kr/member/login.html\">로그인</a>, <a href=\"http://www.hanbit.co.kr/media/\">한빛미디어</a>, <a href=\"http:///www.hanbit.co.kr/academy/\">한빛아카데미</a>]\n"
     ]
    }
   ],
   "source": [
    "tag_ul_all = soup.find_all(\"ul\")\n",
    "print(tag_ul_all)\n",
    "print(type(tag_ul_all))\n",
    "\n",
    "tag_li_all = soup.find_all(\"a\")\n",
    "print(tag_li_all)\n",
    "\n",
    "tag_a_all = soup.find_all(\"a\")\n",
    "print(tag_a_all)"
   ]
  },
  {
   "cell_type": "code",
   "execution_count": 7,
   "metadata": {},
   "outputs": [
    {
     "name": "stdout",
     "output_type": "stream",
     "text": [
      "{'class': ['login'], 'href': 'http://www.hanbit.co.kr/member/login.html'}\n",
      "<class 'dict'>\n",
      "http://www.hanbit.co.kr/member/login.html\n",
      "['login']\n",
      "<ul class=\"brand\"><li><a href=\"http://www.hanbit.co.kr/media/\">한빛미디어</a></li><li><a href=\"http:///www.hanbit.co.kr/academy/\">한빛아카데미</a></li></ul>\n"
     ]
    }
   ],
   "source": [
    "print(tag_a.attrs)\n",
    "print(type(tag_a.attrs))\n",
    "\n",
    "print(tag_a['href'])\n",
    "print(tag_a['class'])\n",
    "\n",
    "tag_ul_2 = soup.find('ul', attrs={'class':'brand'})\n",
    "print(tag_ul_2)"
   ]
  },
  {
   "cell_type": "code",
   "execution_count": 8,
   "metadata": {},
   "outputs": [
    {
     "name": "stdout",
     "output_type": "stream",
     "text": [
      "<h1 id=\"title\">한빛출판네트워크</h1>\n",
      "<class 'bs4.element.Tag'>\n",
      "<class 'bs4.element.NavigableString'>\n"
     ]
    }
   ],
   "source": [
    "title = soup.find(id='title')\n",
    "print(title)\n",
    "print(type(title))\n",
    "\n",
    "test = title.string\n",
    "print(type(test))"
   ]
  },
  {
   "cell_type": "code",
   "execution_count": 17,
   "metadata": {},
   "outputs": [
    {
     "name": "stdout",
     "output_type": "stream",
     "text": [
      "[<li><a href=\"http://www.hanbit.co.kr/media/\">한빛미디어</a></li>, <li><a href=\"http:///www.hanbit.co.kr/academy/\">한빛아카데미</a></li>]\n",
      "<class 'list'>\n",
      "한빛미디어\n",
      "한빛아카데미\n"
     ]
    }
   ],
   "source": [
    "li_list = soup.select(\"div > ul.brand > li\")\n",
    "# > 앞 뒤로 공백 문자 필요함.\n",
    "\n",
    "print(li_list)\n",
    "print(type(li_list))\n",
    "\n",
    "for li in li_list:\n",
    "    print(li.string)"
   ]
  }
 ],
 "metadata": {
  "kernelspec": {
   "display_name": "Python 3",
   "language": "python",
   "name": "python3"
  },
  "language_info": {
   "codemirror_mode": {
    "name": "ipython",
    "version": 3
   },
   "file_extension": ".py",
   "mimetype": "text/x-python",
   "name": "python",
   "nbconvert_exporter": "python",
   "pygments_lexer": "ipython3",
   "version": "3.8.5"
  }
 },
 "nbformat": 4,
 "nbformat_minor": 4
}
