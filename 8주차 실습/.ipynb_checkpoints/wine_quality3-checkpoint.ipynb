{
 "cells": [
  {
   "cell_type": "code",
   "execution_count": 1,
   "metadata": {},
   "outputs": [],
   "source": [
    "#!/usr/bin/env python3\n",
    "import numpy as np\n",
    "import pandas as pd\n",
    "import seaborn as sns\n",
    "import matplotlib.pyplot as plt\n",
    "import statsmodels.api as sm\n",
    "import statsmodels.formula.api as smf\n",
    "from statsmodels.formula.api import ols, glm"
   ]
  },
  {
   "cell_type": "code",
   "execution_count": 2,
   "metadata": {},
   "outputs": [],
   "source": [
    "#회귀분석 : https://www.youtube.com/watch?v=X4IpcWeZHjs&list=PLFzJCjLyAoD0pDHwkN8o8fVTq9rePIe2p"
   ]
  },
  {
   "cell_type": "code",
   "execution_count": 3,
   "metadata": {},
   "outputs": [
    {
     "name": "stdout",
     "output_type": "stream",
     "text": [
      "  type  fixed_acidity  volatile_acidity  citric_acid  residual_sugar  \\\n",
      "0  red            7.4              0.70         0.00             1.9   \n",
      "1  red            7.8              0.88         0.00             2.6   \n",
      "2  red            7.8              0.76         0.04             2.3   \n",
      "3  red           11.2              0.28         0.56             1.9   \n",
      "4  red            7.4              0.70         0.00             1.9   \n",
      "\n",
      "   chlorides  free_sulfur_dioxide  total_sulfur_dioxide  density    pH  \\\n",
      "0      0.076                 11.0                  34.0   0.9978  3.51   \n",
      "1      0.098                 25.0                  67.0   0.9968  3.20   \n",
      "2      0.092                 15.0                  54.0   0.9970  3.26   \n",
      "3      0.075                 17.0                  60.0   0.9980  3.16   \n",
      "4      0.076                 11.0                  34.0   0.9978  3.51   \n",
      "\n",
      "   sulphates  alcohol  quality  \n",
      "0       0.56      9.4        5  \n",
      "1       0.68      9.8        5  \n",
      "2       0.65      9.8        5  \n",
      "3       0.58      9.8        6  \n",
      "4       0.56      9.4        5  \n"
     ]
    }
   ],
   "source": [
    "# Read the data set into a pandas DataFrame\n",
    "wine = pd.read_csv('./winequality-both.csv', sep=',', header=0)\n",
    "wine.columns = wine.columns.str.replace(' ', '_')\n",
    "print(wine.head())"
   ]
  },
  {
   "cell_type": "code",
   "execution_count": 4,
   "metadata": {},
   "outputs": [],
   "source": [
    "#회귀식 설정 \n",
    "# 종속변수 ~ 독립변수1 + 독립변수2 + ...\n",
    "my_formula = 'quality ~ alcohol + chlorides + citric_acid + density + fixed_acidity + free_sulfur_dioxide + pH + residual_sugar + sulphates + total_sulfur_dioxide + volatile_acidity'\n",
    "#formula_all = 'quality ~ fixed_acidity + volatile_acidity + citric_acid + residual_sugar + chlorides + free_sulfur_dioxide + total_sulfur_dioxide + density + pH + sulphates + alcohol'\n",
    "#formula = 'quality ~ residual_sugar + alcohol'\n",
    "#wine_standardized = (wine - wine.mean()) / wine.std()\n",
    "#lm = ols(my_formula, data = wine_standardized).fit()"
   ]
  },
  {
   "cell_type": "code",
   "execution_count": 6,
   "metadata": {},
   "outputs": [
    {
     "name": "stdout",
     "output_type": "stream",
     "text": [
      "                            OLS Regression Results                            \n",
      "==============================================================================\n",
      "Dep. Variable:                quality   R-squared:                       0.292\n",
      "Model:                            OLS   Adj. R-squared:                  0.291\n",
      "Method:                 Least Squares   F-statistic:                     243.3\n",
      "Date:                Mon, 04 Oct 2021   Prob (F-statistic):               0.00\n",
      "Time:                        12:43:03   Log-Likelihood:                -7215.5\n",
      "No. Observations:                6497   AIC:                         1.445e+04\n",
      "Df Residuals:                    6485   BIC:                         1.454e+04\n",
      "Df Model:                          11                                         \n",
      "Covariance Type:            nonrobust                                         \n",
      "========================================================================================\n",
      "                           coef    std err          t      P>|t|      [0.025      0.975]\n",
      "----------------------------------------------------------------------------------------\n",
      "Intercept               55.7627     11.894      4.688      0.000      32.447      79.079\n",
      "alcohol                  0.2670      0.017     15.963      0.000       0.234       0.300\n",
      "chlorides               -0.4837      0.333     -1.454      0.146      -1.136       0.168\n",
      "citric_acid             -0.1097      0.080     -1.377      0.168      -0.266       0.046\n",
      "density                -54.9669     12.137     -4.529      0.000     -78.760     -31.173\n",
      "fixed_acidity            0.0677      0.016      4.346      0.000       0.037       0.098\n",
      "free_sulfur_dioxide      0.0060      0.001      7.948      0.000       0.004       0.007\n",
      "pH                       0.4393      0.090      4.861      0.000       0.262       0.616\n",
      "residual_sugar           0.0436      0.005      8.449      0.000       0.033       0.054\n",
      "sulphates                0.7683      0.076     10.092      0.000       0.619       0.917\n",
      "total_sulfur_dioxide    -0.0025      0.000     -8.969      0.000      -0.003      -0.002\n",
      "volatile_acidity        -1.3279      0.077    -17.162      0.000      -1.480      -1.176\n",
      "==============================================================================\n",
      "Omnibus:                      144.075   Durbin-Watson:                   1.646\n",
      "Prob(Omnibus):                  0.000   Jarque-Bera (JB):              324.712\n",
      "Skew:                          -0.006   Prob(JB):                     3.09e-71\n",
      "Kurtosis:                       4.095   Cond. No.                     2.49e+05\n",
      "==============================================================================\n",
      "\n",
      "Notes:\n",
      "[1] Standard Errors assume that the covariance matrix of the errors is correctly specified.\n",
      "[2] The condition number is large, 2.49e+05. This might indicate that there are\n",
      "strong multicollinearity or other numerical problems.\n",
      "\n",
      "Quantities you can extract from the result:\n",
      "['HC0_se', 'HC1_se', 'HC2_se', 'HC3_se', '_HCCM', '__class__', '__delattr__', '__dict__', '__dir__', '__doc__', '__eq__', '__format__', '__ge__', '__getattribute__', '__gt__', '__hash__', '__init__', '__init_subclass__', '__le__', '__lt__', '__module__', '__ne__', '__new__', '__reduce__', '__reduce_ex__', '__repr__', '__setattr__', '__sizeof__', '__str__', '__subclasshook__', '__weakref__', '_abat_diagonal', '_cache', '_data_attr', '_data_in_cache', '_get_robustcov_results', '_is_nested', '_use_t', '_wexog_singular_values', 'aic', 'bic', 'bse', 'centered_tss', 'compare_f_test', 'compare_lm_test', 'compare_lr_test', 'condition_number', 'conf_int', 'conf_int_el', 'cov_HC0', 'cov_HC1', 'cov_HC2', 'cov_HC3', 'cov_kwds', 'cov_params', 'cov_type', 'df_model', 'df_resid', 'diagn', 'eigenvals', 'el_test', 'ess', 'f_pvalue', 'f_test', 'fittedvalues', 'fvalue', 'get_influence', 'get_prediction', 'get_robustcov_results', 'initialize', 'k_constant', 'llf', 'load', 'model', 'mse_model', 'mse_resid', 'mse_total', 'nobs', 'normalized_cov_params', 'outlier_test', 'params', 'predict', 'pvalues', 'remove_data', 'resid', 'resid_pearson', 'rsquared', 'rsquared_adj', 'save', 'scale', 'ssr', 'summary', 'summary2', 't_test', 't_test_pairwise', 'tvalues', 'uncentered_tss', 'use_t', 'wald_test', 'wald_test_terms', 'wresid']\n",
      "\n",
      "Coefficients:\n",
      "Intercept               55.762750\n",
      "alcohol                  0.267030\n",
      "chlorides               -0.483714\n",
      "citric_acid             -0.109657\n",
      "density                -54.966942\n",
      "fixed_acidity            0.067684\n",
      "free_sulfur_dioxide      0.005970\n",
      "pH                       0.439296\n",
      "residual_sugar           0.043559\n",
      "sulphates                0.768252\n",
      "total_sulfur_dioxide    -0.002481\n",
      "volatile_acidity        -1.327892\n",
      "dtype: float64\n",
      "\n",
      "Coefficient Std Errors:\n",
      "Intercept               11.893899\n",
      "alcohol                  0.016728\n",
      "chlorides                0.332683\n",
      "citric_acid              0.079619\n",
      "density                 12.137473\n",
      "fixed_acidity            0.015573\n",
      "free_sulfur_dioxide      0.000751\n",
      "pH                       0.090371\n",
      "residual_sugar           0.005156\n",
      "sulphates                0.076123\n",
      "total_sulfur_dioxide     0.000277\n",
      "volatile_acidity         0.077373\n",
      "dtype: float64\n",
      "\n",
      "Adj. R-squared:\n",
      "0.29\n",
      "\n",
      "F-statistic: 243.3  P-value: 0.00\n",
      "\n",
      "Number of obs: 6497  Number of fitted values: 6497\n"
     ]
    }
   ],
   "source": [
    "#회귀식은 wine 데이터에 적용\n",
    "#ols()함수 => 최소제곱법에 의한 회귀분석 함수 \n",
    "\n",
    "lm = ols(my_formula, data=wine).fit()\n",
    "\n",
    "#lm = glm(my_formula, data=wine, family=sm.families.Gaussian()).fit()\n",
    "\n",
    "print(lm.summary())\n",
    "print(\"\\nQuantities you can extract from the result:\\n%s\" % dir(lm))\n",
    "print(\"\\nCoefficients:\\n%s\" % lm.params)  # 회귀계수 \n",
    "print(\"\\nCoefficient Std Errors:\\n%s\" % lm.bse) # 표준오차\n",
    "print(\"\\nAdj. R-squared:\\n%.2f\" % lm.rsquared_adj) # R스퀘어(수정결정계수)\n",
    "print(\"\\nF-statistic: %.1f  P-value: %.2f\" % (lm.fvalue, lm.f_pvalue))  # 모형적합도 \n",
    "print(\"\\nNumber of obs: %d  Number of fitted values: %s\" % (lm.nobs, len(lm.fittedvalues)))"
   ]
  },
  {
   "cell_type": "code",
   "execution_count": 7,
   "metadata": {},
   "outputs": [
    {
     "name": "stdout",
     "output_type": "stream",
     "text": [
      "                            OLS Regression Results                            \n",
      "==============================================================================\n",
      "Dep. Variable:                quality   R-squared:                       0.292\n",
      "Model:                            OLS   Adj. R-squared:                  0.291\n",
      "Method:                 Least Squares   F-statistic:                     243.3\n",
      "Date:                Mon, 04 Oct 2021   Prob (F-statistic):               0.00\n",
      "Time:                        12:43:18   Log-Likelihood:                -7215.5\n",
      "No. Observations:                6497   AIC:                         1.445e+04\n",
      "Df Residuals:                    6485   BIC:                         1.454e+04\n",
      "Df Model:                          11                                         \n",
      "Covariance Type:            nonrobust                                         \n",
      "========================================================================================\n",
      "                           coef    std err          t      P>|t|      [0.025      0.975]\n",
      "----------------------------------------------------------------------------------------\n",
      "Intercept                5.8184      0.009    637.785      0.000       5.800       5.836\n",
      "alcohol                  0.3185      0.020     15.963      0.000       0.279       0.358\n",
      "chlorides               -0.0169      0.012     -1.454      0.146      -0.040       0.006\n",
      "citric_acid             -0.0159      0.012     -1.377      0.168      -0.039       0.007\n",
      "density                 -0.1648      0.036     -4.529      0.000      -0.236      -0.093\n",
      "fixed_acidity            0.0877      0.020      4.346      0.000       0.048       0.127\n",
      "free_sulfur_dioxide      0.1060      0.013      7.948      0.000       0.080       0.132\n",
      "pH                       0.0706      0.015      4.861      0.000       0.042       0.099\n",
      "residual_sugar           0.2072      0.025      8.449      0.000       0.159       0.255\n",
      "sulphates                0.1143      0.011     10.092      0.000       0.092       0.137\n",
      "total_sulfur_dioxide    -0.1402      0.016     -8.969      0.000      -0.171      -0.110\n",
      "volatile_acidity        -0.2186      0.013    -17.162      0.000      -0.244      -0.194\n",
      "==============================================================================\n",
      "Omnibus:                      144.075   Durbin-Watson:                   1.646\n",
      "Prob(Omnibus):                  0.000   Jarque-Bera (JB):              324.712\n",
      "Skew:                          -0.006   Prob(JB):                     3.09e-71\n",
      "Kurtosis:                       4.095   Cond. No.                         9.61\n",
      "==============================================================================\n",
      "\n",
      "Notes:\n",
      "[1] Standard Errors assume that the covariance matrix of the errors is correctly specified.\n"
     ]
    }
   ],
   "source": [
    "# Fit a multivariate linear model with standardized independent variables\n",
    "\n",
    "# 데이터 표준화에 의한 회귀분석\n",
    "dependent_variable = wine['quality']\n",
    "independent_variables = wine[wine.columns.difference(['quality', 'type', 'in_sample'])]  #특정열 제외 \n",
    "independent_variables_standardized = (independent_variables - independent_variables.mean()) / independent_variables.std()\n",
    "wine_standardized = pd.concat([dependent_variable, independent_variables_standardized], axis=1)\n",
    "lm_standardized = ols(my_formula, data=wine_standardized).fit()\n",
    "print(lm_standardized.summary())"
   ]
  },
  {
   "cell_type": "code",
   "execution_count": 8,
   "metadata": {},
   "outputs": [
    {
     "name": "stdout",
     "output_type": "stream",
     "text": [
      "[5.0, 4.92, 5.03, 5.68, 5.0, 5.04, 5.02, 5.3, 5.24, 5.69]\n"
     ]
    }
   ],
   "source": [
    "# 회귀식에 의한 예측 예측\n",
    "# Predict quality scores for \"new\" observations\n",
    "new_observations = wine.loc[wine.index.isin(range(10)), independent_variables.columns]\n",
    "y_predicted = lm.predict(new_observations)\n",
    "y_predicted2 = lm_standardized .predict(new_observations)\n",
    "y_predicted_rounded = [round(score, 2) for score in y_predicted]\n",
    "print(y_predicted_rounded)"
   ]
  },
  {
   "cell_type": "code",
   "execution_count": null,
   "metadata": {},
   "outputs": [],
   "source": []
  }
 ],
 "metadata": {
  "kernelspec": {
   "display_name": "Python 3",
   "language": "python",
   "name": "python3"
  },
  "language_info": {
   "codemirror_mode": {
    "name": "ipython",
    "version": 3
   },
   "file_extension": ".py",
   "mimetype": "text/x-python",
   "name": "python",
   "nbconvert_exporter": "python",
   "pygments_lexer": "ipython3",
   "version": "3.8.5"
  }
 },
 "nbformat": 4,
 "nbformat_minor": 4
}
