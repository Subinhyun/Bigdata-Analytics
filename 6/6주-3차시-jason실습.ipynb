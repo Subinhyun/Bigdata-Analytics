{
 "cells": [
  {
   "cell_type": "code",
   "execution_count": 1,
   "metadata": {},
   "outputs": [
    {
     "name": "stdout",
     "output_type": "stream",
     "text": [
      "Book1\n",
      "12345\n",
      "autho1\n",
      "30\n",
      "autho2\n",
      "25\n",
      "{\"title\": \"Book1\", \"ISBN\": \"12345\", \"author\": [{\"name\": \"autho1\", \"age\": 30}, {\"name\": \"autho2\", \"age\": 25}]}\n",
      "\n",
      "{\n",
      "    \"title\": \"Book1\",\n",
      "    \"ISBN\": \"12345\",\n",
      "    \"author\": [\n",
      "        {\n",
      "            \"name\": \"autho1\",\n",
      "            \"age\": 30\n",
      "        },\n",
      "        {\n",
      "            \"name\": \"autho2\",\n",
      "            \"age\": 25\n",
      "        }\n",
      "    ]\n",
      "}\n"
     ]
    }
   ],
   "source": [
    "import json\n",
    "\n",
    "data = '{\"title\": \"Book1\", \"ISBN\": \"12345\", \"author\": [{\"name\": \"autho1\", \"age\": 30}, {\"name\": \"autho2\", \"age\": 25}]}'\n",
    "json_data = json.loads(data)\n",
    "\n",
    "print(json_data['title'])\n",
    "print(json_data['ISBN'])\n",
    "\n",
    "for author in json_data['author']:\n",
    "    print(author['name'])\n",
    "    print(author['age'])\n",
    "\n",
    "\n",
    "book = {'title': 'Book1', 'ISBN': '12345', 'author': [{'name': 'autho1', 'age': 30}, {'name': 'autho2', 'age': 25}]}\n",
    "print(json.dumps(book))\n",
    "print('')\n",
    "print(json.dumps(book, indent=4))\n"
   ]
  },
  {
   "cell_type": "code",
   "execution_count": null,
   "metadata": {},
   "outputs": [],
   "source": []
  }
 ],
 "metadata": {
  "kernelspec": {
   "display_name": "Python 3",
   "language": "python",
   "name": "python3"
  },
  "language_info": {
   "codemirror_mode": {
    "name": "ipython",
    "version": 3
   },
   "file_extension": ".py",
   "mimetype": "text/x-python",
   "name": "python",
   "nbconvert_exporter": "python",
   "pygments_lexer": "ipython3",
   "version": "3.8.5"
  }
 },
 "nbformat": 4,
 "nbformat_minor": 4
}
